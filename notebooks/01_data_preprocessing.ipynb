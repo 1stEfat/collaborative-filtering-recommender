{
 "cells": [
  {
   "cell_type": "code",
   "execution_count": 2,
   "metadata": {},
   "outputs": [],
   "source": [
    "import sys\n",
    "import os\n",
    "\n",
    "# Add the project root to sys.path (not src directly!)\n",
    "project_root = os.path.abspath(os.path.join(os.getcwd(), '..'))\n",
    "if project_root not in sys.path:\n",
    "    sys.path.append(project_root)"
   ]
  },
  {
   "cell_type": "code",
   "execution_count": 3,
   "metadata": {},
   "outputs": [],
   "source": [
    "from src.data_loader import load_movielens_data, preprocess_data\n",
    "import pandas as pd"
   ]
  },
  {
   "cell_type": "code",
   "execution_count": 4,
   "metadata": {},
   "outputs": [],
   "source": [
    "raw_data, ratings_df, users_df, items_df = load_movielens_data()"
   ]
  },
  {
   "cell_type": "code",
   "execution_count": 5,
   "metadata": {},
   "outputs": [
    {
     "name": "stdout",
     "output_type": "stream",
     "text": [
      "Data Shapes:\n",
      "- Raw merged data: (100000, 31)\n",
      "- Ratings data: (100000, 4)\n",
      "- Users data: (943, 5)\n",
      "- Items data: (1682, 24)\n"
     ]
    }
   ],
   "source": [
    "# Show shapes\n",
    "print(\"Data Shapes:\")\n",
    "print(f\"- Raw merged data: {raw_data.shape}\")\n",
    "print(f\"- Ratings data: {ratings_df.shape}\")\n",
    "print(f\"- Users data: {users_df.shape}\")\n",
    "print(f\"- Items data: {items_df.shape}\")"
   ]
  },
  {
   "cell_type": "code",
   "execution_count": 7,
   "metadata": {},
   "outputs": [],
   "source": [
    "filtered_ratings = preprocess_data(ratings_df)"
   ]
  },
  {
   "cell_type": "code",
   "execution_count": 8,
   "metadata": {},
   "outputs": [
    {
     "name": "stdout",
     "output_type": "stream",
     "text": [
      "\n",
      "Preprocessing Results:\n",
      "Original ratings: 100000 records\n",
      "Filtered ratings: 100000 records\n",
      "Users removed: 0\n"
     ]
    }
   ],
   "source": [
    "print(\"\\nPreprocessing Results:\")\n",
    "print(f\"Original ratings: {ratings_df.shape[0]} records\")\n",
    "print(f\"Filtered ratings: {filtered_ratings.shape[0]} records\")\n",
    "print(f\"Users removed: {ratings_df['user_id_ml'].nunique() - filtered_ratings['user_id_ml'].nunique()}\")"
   ]
  },
  {
   "cell_type": "code",
   "execution_count": 9,
   "metadata": {},
   "outputs": [],
   "source": [
    "user_item_matrix = filtered_ratings.pivot_table(\n",
    "    index='user_id_ml',\n",
    "    columns='item_id_ml',\n",
    "    values='rating_ml'\n",
    ")"
   ]
  },
  {
   "cell_type": "code",
   "execution_count": 11,
   "metadata": {},
   "outputs": [
    {
     "name": "stdout",
     "output_type": "stream",
     "text": [
      "\n",
      "User-Item Matrix Created:\n",
      "Matrix shape: (943, 1682)\n",
      "Example matrix values:\n",
      "item_id_ml    1    2    3    4    5\n",
      "user_id_ml                         \n",
      "1           5.0  3.0  4.0  3.0  3.0\n",
      "2           4.0  NaN  NaN  NaN  NaN\n",
      "3           NaN  NaN  NaN  NaN  NaN\n",
      "4           NaN  NaN  NaN  NaN  NaN\n",
      "5           4.0  3.0  NaN  NaN  NaN\n"
     ]
    }
   ],
   "source": [
    "user_item_matrix.to_csv(r'C:\\Users\\PC\\Desktop\\collaborative-filtering-recommender\\results\\user_item_matrix.csv')\n",
    "print(\"\\nUser-Item Matrix Created:\")\n",
    "print(f\"Matrix shape: {user_item_matrix.shape}\")\n",
    "print(f\"Example matrix values:\\n{user_item_matrix.iloc[:5, :5]}\")"
   ]
  },
  {
   "cell_type": "code",
   "execution_count": 16,
   "metadata": {},
   "outputs": [],
   "source": [
    "from sklearn.model_selection import train_test_split"
   ]
  },
  {
   "cell_type": "code",
   "execution_count": 17,
   "metadata": {},
   "outputs": [],
   "source": [
    "# Split ratings into train/test\n",
    "train_ratings, test_ratings = train_test_split(\n",
    "    filtered_ratings,\n",
    "    test_size=0.2,\n",
    "    random_state=42,\n",
    "    stratify=filtered_ratings['user_id_ml']\n",
    ")"
   ]
  },
  {
   "cell_type": "code",
   "execution_count": 18,
   "metadata": {},
   "outputs": [
    {
     "name": "stdout",
     "output_type": "stream",
     "text": [
      "\n",
      "Train-Test Split Created:\n",
      "Training set: 80000 records\n",
      "Test set: 20000 records\n"
     ]
    }
   ],
   "source": [
    "train_ratings.to_csv(r'C:\\Users\\PC\\Desktop\\collaborative-filtering-recommender\\results\\train_ratings.csv', index=False)\n",
    "test_ratings.to_csv(r'C:\\Users\\PC\\Desktop\\collaborative-filtering-recommender\\results\\test_ratings.csv', index=False)\n",
    "\n",
    "print(\"\\nTrain-Test Split Created:\")\n",
    "print(f\"Training set: {train_ratings.shape[0]} records\")\n",
    "print(f\"Test set: {test_ratings.shape[0]} records\")"
   ]
  }
 ],
 "metadata": {
  "kernelspec": {
   "display_name": "Python 3",
   "language": "python",
   "name": "python3"
  },
  "language_info": {
   "codemirror_mode": {
    "name": "ipython",
    "version": 3
   },
   "file_extension": ".py",
   "mimetype": "text/x-python",
   "name": "python",
   "nbconvert_exporter": "python",
   "pygments_lexer": "ipython3",
   "version": "3.13.1"
  }
 },
 "nbformat": 4,
 "nbformat_minor": 4
}
