{
 "cells": [
  {
   "cell_type": "code",
   "execution_count": 48,
   "id": "a3971a0b",
   "metadata": {},
   "outputs": [],
   "source": [
    "import sys\n",
    "import os\n",
    "\n",
    "# Add the project root to sys.path (not src directly!)\n",
    "project_root = os.path.abspath(os.path.join(os.getcwd(), '..'))\n",
    "if project_root not in sys.path:\n",
    "    sys.path.append(project_root)"
   ]
  },
  {
   "cell_type": "code",
   "execution_count": 49,
   "id": "f7f91c98",
   "metadata": {},
   "outputs": [],
   "source": [
    "import numpy as np\n",
    "import pandas as pd\n",
    "from src.recommender import UserBasedCF\n",
    "from src.evaluation import calculate_rmse"
   ]
  },
  {
   "cell_type": "code",
   "execution_count": 50,
   "id": "77f58f31",
   "metadata": {},
   "outputs": [],
   "source": [
    "user_item_matrix_ubcf = pd.read_csv(r'C:\\Users\\PC\\Desktop\\collaborative-filtering-recommender\\results\\user_item_matrix.csv', index_col='user_id_ml')"
   ]
  },
  {
   "cell_type": "code",
   "execution_count": 51,
   "id": "89582992",
   "metadata": {},
   "outputs": [],
   "source": [
    "test_ratings = pd.read_csv(r'C:\\Users\\PC\\Desktop\\collaborative-filtering-recommender\\results\\test_ratings.csv')"
   ]
  },
  {
   "cell_type": "code",
   "execution_count": 52,
   "id": "6002d264",
   "metadata": {},
   "outputs": [],
   "source": [
    "ubcf_model = UserBasedCF(min_common_items=5)\n",
    "ubcf_model.fit(user_item_matrix_ubcf)"
   ]
  },
  {
   "cell_type": "code",
   "execution_count": 53,
   "id": "14038cb1",
   "metadata": {},
   "outputs": [],
   "source": [
    "def predict_ratings_ubcf(model, test_df):\n",
    "    predictions = []\n",
    "    for _, row in test_df.iterrows():\n",
    "        pred = model.predict_rating_ubcf(row['user_id_ml'], row['item_id_ml'])\n",
    "        predictions.append(pred)\n",
    "    return np.array(predictions)"
   ]
  },
  {
   "cell_type": "code",
   "execution_count": 54,
   "id": "517e1e9f",
   "metadata": {},
   "outputs": [],
   "source": [
    "ubcf_predictions = predict_ratings_ubcf(ubcf_model, test_ratings)"
   ]
  },
  {
   "cell_type": "code",
   "execution_count": 55,
   "id": "2342421e",
   "metadata": {},
   "outputs": [],
   "source": [
    "test_ratings['predicted_rating_ubcf'] = ubcf_predictions"
   ]
  },
  {
   "cell_type": "code",
   "execution_count": 56,
   "id": "a72cc424",
   "metadata": {},
   "outputs": [],
   "source": [
    "test_ratings[['user_id_ml', 'item_id_ml', 'rating_ml', 'predicted_rating_ubcf']].to_csv(\n",
    "    r'C:\\Users\\PC\\Desktop\\collaborative-filtering-recommender\\results\\ubcf_predictions.csv', \n",
    "    index=False\n",
    ")"
   ]
  },
  {
   "cell_type": "code",
   "execution_count": null,
   "id": "3eb82214",
   "metadata": {},
   "outputs": [],
   "source": [
    "def generate_topn_ubcf(user_id, n=10):\n",
    "    # Get user's rated items\n",
    "    user_rated = user_item_matrix_ubcf.loc[user_id].dropna().index.astype(int)\n",
    "    \n",
    "    # Get all possible items\n",
    "    all_items = user_item_matrix_ubcf.columns.astype(int)\n",
    "    \n",
    "    # Find unrated items\n",
    "    unrated = [i for i in all_items if i not in user_rated]\n",
    "    \n",
    "    # Predict ratings for unrated items\n",
    "    preds = []\n",
    "    for item_id in unrated:\n",
    "        pred = ubcf_model.predict_rating_ubcf(user_id, item_id)\n",
    "        if not np.isnan(pred):\n",
    "            preds.append((item_id, pred))\n",
    "    \n",
    "    # Return top N recommendations\n",
    "    return sorted(preds, key=lambda x: x[1], reverse=True)[:n]"
   ]
  },
  {
   "cell_type": "code",
   "execution_count": 57,
   "id": "8545c9b2",
   "metadata": {},
   "outputs": [
    {
     "name": "stdout",
     "output_type": "stream",
     "text": [
      "Top 10 recommendations for user 7:\n",
      "Item 511: Predicted rating 4.80\n",
      "Item 603: Predicted rating 4.75\n",
      "Item 50: Predicted rating 4.70\n",
      "Item 318: Predicted rating 4.67\n",
      "Item 474: Predicted rating 4.67\n",
      "Item 42: Predicted rating 4.60\n",
      "Item 285: Predicted rating 4.60\n",
      "Item 463: Predicted rating 4.60\n",
      "Item 497: Predicted rating 4.60\n",
      "Item 480: Predicted rating 4.56\n"
     ]
    }
   ],
   "source": [
    "user_id_example = 7\n",
    "top10_ubcf = generate_topn_ubcf(user_id_example)\n",
    "print(f\"Top 10 recommendations for user {user_id_example}:\")\n",
    "for item_id, rating in top10_ubcf:\n",
    "    print(f\"Item {item_id}: Predicted rating {rating:.2f}\")"
   ]
  }
 ],
 "metadata": {
  "kernelspec": {
   "display_name": "Python 3",
   "language": "python",
   "name": "python3"
  },
  "language_info": {
   "codemirror_mode": {
    "name": "ipython",
    "version": 3
   },
   "file_extension": ".py",
   "mimetype": "text/x-python",
   "name": "python",
   "nbconvert_exporter": "python",
   "pygments_lexer": "ipython3",
   "version": "3.13.1"
  }
 },
 "nbformat": 4,
 "nbformat_minor": 5
}
