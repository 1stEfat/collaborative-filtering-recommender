{
 "cells": [
  {
   "cell_type": "code",
   "execution_count": 2,
   "id": "ecea12f2",
   "metadata": {},
   "outputs": [],
   "source": [
    "import sys\n",
    "import os\n",
    "\n",
    "# Add the project root to sys.path (not src directly!)\n",
    "project_root = os.path.abspath(os.path.join(os.getcwd(), '..'))\n",
    "if project_root not in sys.path:\n",
    "    sys.path.append(project_root)"
   ]
  },
  {
   "cell_type": "code",
   "execution_count": 6,
   "id": "c0b53ea9",
   "metadata": {},
   "outputs": [],
   "source": [
    "import pandas as pd\n",
    "import numpy as np\n",
    "from src.recommender import ItemBasedCF\n",
    "from src.evaluation import calculate_rmse"
   ]
  },
  {
   "cell_type": "code",
   "execution_count": 4,
   "id": "eeed1cd2",
   "metadata": {},
   "outputs": [],
   "source": [
    "user_item_matrix_ibcf = pd.read_csv(r'C:\\Users\\PC\\Desktop\\collaborative-filtering-recommender\\results\\user_item_matrix.csv', index_col='user_id_ml')"
   ]
  },
  {
   "cell_type": "code",
   "execution_count": 5,
   "id": "377e085c",
   "metadata": {},
   "outputs": [],
   "source": [
    "ibcf_model = ItemBasedCF(min_common_users=5)\n",
    "ibcf_model.fit(user_item_matrix_ibcf)"
   ]
  },
  {
   "cell_type": "code",
   "execution_count": 7,
   "id": "4cb94da0",
   "metadata": {},
   "outputs": [],
   "source": [
    "def predict_ratings_ibcf(model, test_df):\n",
    "    predictions = []\n",
    "    for _, row in test_df.iterrows():\n",
    "        pred = model.predict_rating_ibcf(row['user_id_ml'], row['item_id_ml'])\n",
    "        predictions.append(pred)\n",
    "    return np.array(predictions)"
   ]
  },
  {
   "cell_type": "code",
   "execution_count": 8,
   "id": "c8ff3b43",
   "metadata": {},
   "outputs": [],
   "source": [
    "test_ratings = pd.read_csv(r'C:\\Users\\PC\\Desktop\\collaborative-filtering-recommender\\results\\test_ratings.csv')\n"
   ]
  },
  {
   "cell_type": "code",
   "execution_count": 9,
   "id": "b7ee917a",
   "metadata": {},
   "outputs": [],
   "source": [
    "ibcf_predictions = predict_ratings_ibcf(ibcf_model, test_ratings)\n",
    "test_ratings['predicted_rating_ibcf'] = ibcf_predictions"
   ]
  },
  {
   "cell_type": "code",
   "execution_count": 11,
   "id": "4653d58e",
   "metadata": {},
   "outputs": [],
   "source": [
    "test_ratings.to_csv(r'C:\\Users\\PC\\Desktop\\collaborative-filtering-recommender\\results\\ibcf_predictions.csv', index=False)"
   ]
  },
  {
   "cell_type": "code",
   "execution_count": 14,
   "id": "33692433",
   "metadata": {},
   "outputs": [],
   "source": [
    "def generate_topn_ibcf(user_id, n=10):\n",
    "    user_ratings = user_item_matrix_ibcf.loc[user_id]\n",
    "    unrated_items = user_ratings[user_ratings.isna()].index\n",
    "    \n",
    "    preds = []\n",
    "    for item_id in unrated_items:\n",
    "        # Convert item_id to integer explicitly\n",
    "        item_id_int = int(item_id)\n",
    "        pred = ibcf_model.predict_rating_ibcf(user_id, item_id_int)\n",
    "        if not np.isnan(pred):\n",
    "            preds.append((item_id_int, pred))\n",
    "    \n",
    "    return sorted(preds, key=lambda x: x[1], reverse=True)[:n]"
   ]
  },
  {
   "cell_type": "code",
   "execution_count": 15,
   "id": "a8ddd0e8",
   "metadata": {},
   "outputs": [
    {
     "name": "stdout",
     "output_type": "stream",
     "text": [
      "Top 10 recommendations for user 7:\n",
      "Item 48: Predicted rating 5.00\n",
      "Item 169: Predicted rating 5.00\n",
      "Item 209: Predicted rating 5.00\n",
      "Item 276: Predicted rating 5.00\n",
      "Item 508: Predicted rating 5.00\n",
      "Item 531: Predicted rating 5.00\n",
      "Item 712: Predicted rating 5.00\n",
      "Item 1149: Predicted rating 5.00\n",
      "Item 58: Predicted rating 4.89\n",
      "Item 87: Predicted rating 4.89\n"
     ]
    }
   ],
   "source": [
    "user_id_example = 7\n",
    "top10_ibcf = generate_topn_ibcf(user_id_example)\n",
    "print(f\"Top 10 recommendations for user {user_id_example}:\")\n",
    "for item_id, rating in top10_ibcf:\n",
    "    print(f\"Item {item_id}: Predicted rating {rating:.2f}\")"
   ]
  }
 ],
 "metadata": {
  "kernelspec": {
   "display_name": "Python 3",
   "language": "python",
   "name": "python3"
  },
  "language_info": {
   "codemirror_mode": {
    "name": "ipython",
    "version": 3
   },
   "file_extension": ".py",
   "mimetype": "text/x-python",
   "name": "python",
   "nbconvert_exporter": "python",
   "pygments_lexer": "ipython3",
   "version": "3.13.1"
  }
 },
 "nbformat": 4,
 "nbformat_minor": 5
}
